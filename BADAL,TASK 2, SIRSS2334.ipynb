{
 "cells": [
  {
   "cell_type": "markdown",
   "id": "0fbd788f",
   "metadata": {},
   "source": [
    "# Task 2\n",
    "\n",
    "# Referral ID: SIRSS2334\n",
    "\n",
    "# Name :BADAL"
   ]
  },
  {
   "cell_type": "markdown",
   "id": "475aeb20",
   "metadata": {},
   "source": [
    "# 1. Write a lambda expression to extract first word of a string."
   ]
  },
  {
   "cell_type": "code",
   "execution_count": 7,
   "id": "ed49aaa2",
   "metadata": {},
   "outputs": [
    {
     "name": "stdout",
     "output_type": "stream",
     "text": [
      "SINGH\n",
      "S\n"
     ]
    }
   ],
   "source": [
    "string = input()\n",
    "\n",
    "func = lambda x:x[0]\n",
    "print(func(string))"
   ]
  },
  {
   "cell_type": "markdown",
   "id": "36dd4593",
   "metadata": {},
   "source": [
    "# 2. Write a function to extract first word of s string (with many words separated by space)"
   ]
  },
  {
   "cell_type": "code",
   "execution_count": 8,
   "id": "980737a1",
   "metadata": {},
   "outputs": [
    {
     "name": "stdout",
     "output_type": "stream",
     "text": [
      "MY NAME IS BADAL SINGH\n",
      "MY\n"
     ]
    }
   ],
   "source": [
    "string = input().split()\n",
    "\n",
    "func = lambda x:x[0]\n",
    "print(func(string))"
   ]
  },
  {
   "cell_type": "markdown",
   "id": "65640f65",
   "metadata": {},
   "source": [
    "# 3.Extract the first word from every string from a list of strings by using map function."
   ]
  },
  {
   "cell_type": "code",
   "execution_count": 9,
   "id": "9d15c648",
   "metadata": {},
   "outputs": [
    {
     "name": "stdout",
     "output_type": "stream",
     "text": [
      "I LIKE TO PLAY CRICKET\n"
     ]
    },
    {
     "data": {
      "text/plain": [
       "['I', 'L', 'T', 'P', 'C']"
      ]
     },
     "execution_count": 9,
     "metadata": {},
     "output_type": "execute_result"
    }
   ],
   "source": [
    "l = input().split()\n",
    "func = lambda x:x[0]\n",
    "list(next(zip(*map(func, l))))"
   ]
  },
  {
   "cell_type": "markdown",
   "id": "7f3db7b2",
   "metadata": {},
   "source": [
    "# 4. Write a function to return a list of prime factors of a given number."
   ]
  },
  {
   "cell_type": "code",
   "execution_count": 10,
   "id": "ea676dec",
   "metadata": {},
   "outputs": [
    {
     "name": "stdout",
     "output_type": "stream",
     "text": [
      "Enter the number: 500\n",
      "[2, 2, 5, 5, 5]\n"
     ]
    }
   ],
   "source": [
    "def prime(x):\n",
    "    factors = []\n",
    "    divisor = 2\n",
    "    while divisor <= x:\n",
    "        if x%divisor == 0:\n",
    "            factors.append(divisor)\n",
    "            x = x/divisor \n",
    "        else:\n",
    "            divisor += 1 \n",
    "    return factors\n",
    "\n",
    "num = input('Enter the number: ')\n",
    "print(prime(int(num)))"
   ]
  },
  {
   "cell_type": "markdown",
   "id": "fbed362d",
   "metadata": {},
   "source": [
    "# 5.Write a function that finds 2nd largest among 4 numbers (Repetitions are allowed, without sorting)."
   ]
  },
  {
   "cell_type": "code",
   "execution_count": 11,
   "id": "8ebd8ffe",
   "metadata": {},
   "outputs": [
    {
     "name": "stdout",
     "output_type": "stream",
     "text": [
      "2 3 4 5\n",
      "4\n"
     ]
    }
   ],
   "source": [
    "def max_2(arr):\n",
    "    a = set(arr)\n",
    "    a = list(a)\n",
    "    b = max(a)\n",
    "    a.remove(b)\n",
    "    b = max(a)\n",
    "    return b\n",
    "\n",
    "l = input()\n",
    "l = l.split()\n",
    "l = list(map(int, l))\n",
    "print(max_2(l))\n"
   ]
  },
  {
   "cell_type": "code",
   "execution_count": null,
   "id": "178a09cd",
   "metadata": {},
   "outputs": [],
   "source": []
  }
 ],
 "metadata": {
  "kernelspec": {
   "display_name": "Python 3",
   "language": "python",
   "name": "python3"
  },
  "language_info": {
   "codemirror_mode": {
    "name": "ipython",
    "version": 3
   },
   "file_extension": ".py",
   "mimetype": "text/x-python",
   "name": "python",
   "nbconvert_exporter": "python",
   "pygments_lexer": "ipython3",
   "version": "3.8.8"
  }
 },
 "nbformat": 4,
 "nbformat_minor": 5
}
